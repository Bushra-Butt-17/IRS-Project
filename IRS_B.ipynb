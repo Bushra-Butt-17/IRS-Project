{
 "cells": [
  {
   "cell_type": "markdown",
   "metadata": {},
   "source": [
    "# Assignment 2 IRS - With Synonyms"
   ]
  },
  {
   "cell_type": "markdown",
   "metadata": {},
   "source": [
    "Information retrieval is the process of obtaining information system resources that are relevant to an information need from a collection of those resources. The core purpose of this assignment is to give you the flavor of IRS. You need to follow some steps listed below and in the end, you'll be able to build your own small IRS. So, let's start."
   ]
  },
  {
   "cell_type": "code",
   "execution_count": 21,
   "metadata": {},
   "outputs": [],
   "source": [
    "# required imports\n",
    "import numpy as np\n",
    "import fnmatch\n",
    "import os\n",
    "import re"
   ]
  },
  {
   "cell_type": "markdown",
   "metadata": {},
   "source": [
    "Suppose we have 3 files containing data :"
   ]
  },
  {
   "cell_type": "markdown",
   "metadata": {},
   "source": [
    "### File Contents"
   ]
  },
  {
   "cell_type": "markdown",
   "metadata": {},
   "source": [
    "![\"This is my book\" - File 1](https://github.com/ahmad-14a/CS-F20-ML/blob/main/IRS-Assignment%201/f1.png?raw=true)\n",
    "![\"This is my pen\" - File 1](https://github.com/ahmad-14a/CS-F20-ML/blob/main/IRS-Assignment%201/f2.png?raw=true)\n",
    "![\"This is book is intersting\" - File 1](https://github.com/ahmad-14a/CS-F20-ML/blob/main/IRS-Assignment%201/f3.png?raw=true)"
   ]
  },
  {
   "cell_type": "markdown",
   "metadata": {},
   "source": [
    "# Step 1 Create Files with Dummy data"
   ]
  },
  {
   "cell_type": "markdown",
   "metadata": {},
   "source": [
    "You have to create few files with dummy data of your own choice as shown above."
   ]
  },
  {
   "cell_type": "markdown",
   "metadata": {},
   "source": [
    "# Step 2 Traverse Directories"
   ]
  },
  {
   "cell_type": "markdown",
   "metadata": {},
   "source": [
    " Now, You have to traverse the directories and store all the files into a dict type variable(files_dict). "
   ]
  },
  {
   "cell_type": "code",
   "execution_count": 22,
   "metadata": {},
   "outputs": [],
   "source": [
    "# Here we have intialized some variables, you can add more if required.\n",
    "file_count = 0             # file_count to count number of files\n",
    "files_dict = {}            # files_dic to store count of every file    \n",
    "unique_word_set = set()    # unique_word_set to store all the unique words in a set\n",
    "words_dict={}              # to count all the unique words appearances in all the files \n",
    "ids_dict={}                # dictionary to get the ids of words in all files \n",
    "word_count={}             # to maintain a list of counts of each word in all files"
   ]
  },
  {
   "cell_type": "code",
   "execution_count": 23,
   "metadata": {},
   "outputs": [],
   "source": [
    "#Your code starts here   \n",
    "#it takes the argument 'directory' which is actually the path to directory,\n",
    "#and uses the 'os.walk' function to traverse the directory and all of its subdirectories recursively.\n",
    "#For each file in each directory, this function creates a file path by joining the file name\n",
    "#with the directory name using the 'os.path.join' function. Lastly, it calls the 'process_file' function \n",
    "#for each file path.\n",
    "def traverse_directories(directory):\n",
    "    for root, dirs, files in os.walk(directory):  #traversing the directory\n",
    "        # Process each file in the directory\n",
    "        for file in files:\n",
    "            file_path = os.path.join(root, file)  #making file path for each file by joining it with directory name\n",
    "            process_file(file_path)\n",
    "\n",
    "#it takes the argument 'file_path', which is a string representing the path to a file.\n",
    "#a>increments the 'file_count' global variable by 1 \n",
    "#b>assigns the file path to the files_dict dictionary using the file_id as the key\n",
    "\n",
    "def process_file(file_path):\n",
    "    global file_count\n",
    "    global files_dict\n",
    "    global unique_word_set\n",
    "    file_id = file_count \n",
    "    # Assign the file path to the files_dict dictionary\n",
    "    files_dict[file_id] = file_path\n",
    "    # Increment the file_count variable\n",
    "    file_count += 1\n",
    "\n",
    "directory = \"C:\\\\Users\\\\User\\\\OneDrive\\\\Desktop\\\\Assignmnet 2 - IRS\\\\files\"\n",
    "traverse_directories(directory)\n",
    "#Your code ends here     "
   ]
  },
  {
   "cell_type": "markdown",
   "metadata": {},
   "source": [
    "Displaying the count of files."
   ]
  },
  {
   "cell_type": "code",
   "execution_count": 24,
   "metadata": {},
   "outputs": [
    {
     "name": "stdout",
     "output_type": "stream",
     "text": [
      "\n",
      "Total Number  of files\n",
      " 3\n"
     ]
    }
   ],
   "source": [
    "print(\"\\nTotal Number  of files\\n\", file_count)"
   ]
  },
  {
   "cell_type": "markdown",
   "metadata": {},
   "source": [
    "Displaying Dictionary containing all files."
   ]
  },
  {
   "cell_type": "code",
   "execution_count": 25,
   "metadata": {},
   "outputs": [
    {
     "name": "stdout",
     "output_type": "stream",
     "text": [
      "\n",
      "Dictionary containing  files\n",
      " {0: 'C:\\\\Users\\\\User\\\\OneDrive\\\\Desktop\\\\Assignmnet 2 - IRS\\\\files\\\\f1.txt', 1: 'C:\\\\Users\\\\User\\\\OneDrive\\\\Desktop\\\\Assignmnet 2 - IRS\\\\files\\\\f2.txt', 2: 'C:\\\\Users\\\\User\\\\OneDrive\\\\Desktop\\\\Assignmnet 2 - IRS\\\\files\\\\f3.txt'}\n"
     ]
    }
   ],
   "source": [
    "print(\"\\nDictionary containing  files\\n\", files_dict)"
   ]
  },
  {
   "cell_type": "markdown",
   "metadata": {},
   "source": [
    "# Step 3 Extract Unique Vocabulary"
   ]
  },
  {
   "cell_type": "markdown",
   "metadata": {},
   "source": [
    "write code to print all the unique words in every file and store them in a set"
   ]
  },
  {
   "cell_type": "code",
   "execution_count": 74,
   "metadata": {},
   "outputs": [
    {
     "name": "stdout",
     "output_type": "stream",
     "text": [
      "\n",
      "Unique vocabulary in all files:\n",
      "{'book', 'interesting', 'this', 'my', 'is', 'pen'}\n",
      "\n",
      "Total Number of unique words\n",
      " 6\n",
      "{'this': 6, 'is': 8, 'my': 6, 'book': 6, 'pen': 4, 'interesting': 4}\n"
     ]
    }
   ],
   "source": [
    "#Your code starts here    \n",
    "def extract_unique_vocabulary():\n",
    "    global unique_word_set\n",
    "    # Read the file content\n",
    "    for file_id, file_path in files_dict.items():\n",
    "        with open(file_path, 'r') as f:\n",
    "            content = f.read()\n",
    "            words = re.findall(r'\\w+', content)\n",
    "             # Convert the words to lowercase\n",
    "            words = [word.lower() for word in words]\n",
    "             # Add the unique words to the unique_word_set set using set union\n",
    "            unique_word_set |= set(words)\n",
    "         # Count the frequency of each word in the file\n",
    "        for word in words:\n",
    "             # If the word has not been seen before, add it to the word_count dictionary with a count of 1\n",
    "            if word not in word_count:\n",
    "                word_count[word] = 1\n",
    "            # If the word has been seen before, increment its count\n",
    "            else:\n",
    "                word_count[word] += 1\n",
    "extract_unique_vocabulary()\n",
    "#print(word_count)\n",
    "print(\"\\nUnique vocabulary in all files:\")\n",
    "print(unique_word_set)\n",
    "'''\n",
    "for word in sorted(unique_word_set):\n",
    "    print(word)\n",
    "'''\n",
    "print(\"\\nTotal Number of unique words\\n\", len(unique_word_set))\n",
    "print(word_count)\n",
    "#Your code ends here"
   ]
  },
  {
   "cell_type": "markdown",
   "metadata": {},
   "source": [
    "### Expected Output"
   ]
  },
  {
   "cell_type": "markdown",
   "metadata": {},
   "source": [
    "![\"Expected Output of unique words\" - File 1](https://github.com/ahmad-14a/CS-F20-ML/blob/main/IRS-Assignment%201/o1.png?raw=true)\n"
   ]
  },
  {
   "cell_type": "markdown",
   "metadata": {},
   "source": [
    "# Step 4 Create Term Document Matrix"
   ]
  },
  {
   "cell_type": "markdown",
   "metadata": {},
   "source": [
    "Create Term-Doc-matrix using Bag of word approach.and display its contents initially and finally."
   ]
  },
  {
   "cell_type": "markdown",
   "metadata": {},
   "source": [
    "1. Create Term doc matrix such that colmns will be unique words and all the files will be rows\n",
    "2. Write code to count all the unique words appearances in all the files and store it in a dictionary for words "
   ]
  },
  {
   "cell_type": "code",
   "execution_count": 75,
   "metadata": {},
   "outputs": [
    {
     "name": "stdout",
     "output_type": "stream",
     "text": [
      "[[0. 0. 0. 0. 0. 0.]\n",
      " [0. 0. 0. 0. 0. 0.]\n",
      " [0. 0. 0. 0. 0. 0.]]\n",
      "Dictionary of Unique Words\n",
      "{'book': 0, 'interesting': 1, 'this': 2, 'my': 3, 'is': 4, 'pen': 5}\n",
      "Dictionary of Files\n",
      "{0: 'C:\\\\Users\\\\User\\\\OneDrive\\\\Desktop\\\\Assignmnet 2 - IRS\\\\files\\\\f1.txt', 1: 'C:\\\\Users\\\\User\\\\OneDrive\\\\Desktop\\\\Assignmnet 2 - IRS\\\\files\\\\f2.txt', 2: 'C:\\\\Users\\\\User\\\\OneDrive\\\\Desktop\\\\Assignmnet 2 - IRS\\\\files\\\\f3.txt'}\n"
     ]
    }
   ],
   "source": [
    "#Your code starts here    \n",
    "#Create Term doc matrix such that colmns will be unique words and all the files will be rows\n",
    "term_doc_matrix = np.zeros((file_count, len(unique_word_set)))\n",
    "print(term_doc_matrix)\n",
    "\n",
    "#code to count all the unique words appearances in all the files and store it in a dictionary for words\n",
    "def dict_for_unique_words():\n",
    "    i = 0\n",
    "    for word in unique_word_set:\n",
    "        words_dict[word]=i\n",
    "        i+=1\n",
    "dict_for_unique_words()\n",
    "print(\"Dictionary of Unique Words\")\n",
    "print(words_dict)\n",
    "print(\"Dictionary of Files\")\n",
    "print(files_dict)\n",
    "#Your code ends here"
   ]
  },
  {
   "cell_type": "markdown",
   "metadata": {},
   "source": [
    "### Expected Output"
   ]
  },
  {
   "cell_type": "markdown",
   "metadata": {},
   "source": [
    "![\"Expected Output of unique words\" - File 1](https://github.com/ahmad-14a/CS-F20-ML/blob/main/IRS-Assignment%201/o2.png?raw=true)"
   ]
  },
  {
   "cell_type": "markdown",
   "metadata": {},
   "source": [
    "# Step 5 Fill Term Document Matrix"
   ]
  },
  {
   "cell_type": "markdown",
   "metadata": {},
   "source": [
    "1. Fill the term doc matrix by checking if the unique word exists in a file or not\n",
    "2. If it exists then substitute a 1 in term_doc_matrix (eg : TERM_DOC_MATRIX[file][word] = 1 ) \n",
    "3. Do the same for all the files present in the directory"
   ]
  },
  {
   "cell_type": "code",
   "execution_count": 76,
   "metadata": {},
   "outputs": [
    {
     "name": "stdout",
     "output_type": "stream",
     "text": [
      "Dictionary of unique words\n",
      "{'book': 0, 'interesting': 1, 'this': 2, 'my': 3, 'is': 4, 'pen': 5}\n",
      "['this', 'is', 'my', 'book']\n",
      "['this', 'is', 'my', 'pen']\n",
      "['my', 'book', 'is', 'interesting']\n",
      "\n",
      "Term Document Matrix\n",
      "[[1. 0. 1. 1. 1. 0.]\n",
      " [0. 0. 1. 1. 1. 1.]\n",
      " [1. 1. 0. 1. 1. 0.]]\n"
     ]
    }
   ],
   "source": [
    "#Your code starts here    \n",
    "# Create a dictionary to map the unique words to their word IDs\n",
    "for w,i in words_dict.items():\n",
    "    ids_dict[i]=w\n",
    "#print(ids_dict)\n",
    "\n",
    "print(\"Dictionary of unique words\")\n",
    "print(words_dict)\n",
    "\n",
    "# Populate the term-document matrix\n",
    "for file_id, file_path in files_dict.items():\n",
    "    file_words = [w.lower() for w in re.findall(r'\\w+', open(file_path, 'r').read())]\n",
    "    print(file_words)\n",
    "    for word, word_id in words_dict.items():\n",
    "        if word in file_words:\n",
    "            # Set the value at the corresponding cell in the term-document matrix to 1\n",
    "            term_doc_matrix[file_id][word_id] = 1\n",
    "\n",
    "# Print the term-document matrix\n",
    "print('\\nTerm Document Matrix')\n",
    "print(term_doc_matrix)\n",
    "\n",
    "\n",
    "#Your code ends here"
   ]
  },
  {
   "cell_type": "markdown",
   "metadata": {},
   "source": [
    "### Expected Output"
   ]
  },
  {
   "cell_type": "markdown",
   "metadata": {},
   "source": [
    "![\"Expected Output of unique words\" - File 1](https://github.com/ahmad-14a/CS-F20-ML/blob/main/IRS-Assignment%201/o4.png?raw=true)\n"
   ]
  },
  {
   "cell_type": "markdown",
   "metadata": {},
   "source": [
    "# Step 6 Ask for a user Query"
   ]
  },
  {
   "cell_type": "markdown",
   "metadata": {},
   "source": [
    "For user query make a column vector of length of all the unique words present in a set"
   ]
  },
  {
   "cell_type": "code",
   "execution_count": 77,
   "metadata": {},
   "outputs": [
    {
     "name": "stdout",
     "output_type": "stream",
     "text": [
      "[[0.]\n",
      " [0.]\n",
      " [0.]\n",
      " [0.]\n",
      " [0.]\n",
      " [0.]]\n"
     ]
    }
   ],
   "source": [
    "#Your code starts here    \n",
    "col_vector= np.zeros(len(unique_word_set))             # Initialize the column vector to all zeros\n",
    "col_vector=col_vector.reshape(len(unique_word_set),1)  # reshape used to convert it into column vector\n",
    "print(col_vector)\n",
    "#Your code ends here"
   ]
  },
  {
   "cell_type": "markdown",
   "metadata": {},
   "source": [
    "### Expected Output"
   ]
  },
  {
   "cell_type": "markdown",
   "metadata": {},
   "source": [
    "![\"Expected Output of unique words\" - File 1](https://github.com/ahmad-14a/CS-F20-ML/blob/main/IRS-Assignment%201/o5.png?raw=true)\n"
   ]
  },
  {
   "cell_type": "code",
   "execution_count": 80,
   "metadata": {},
   "outputs": [
    {
     "name": "stdout",
     "output_type": "stream",
     "text": [
      "\n",
      "Write something for searching:  this is a fascinating publication written with a pen\n",
      "Query is: this is a fascinating publication written with a pen\n"
     ]
    }
   ],
   "source": [
    "query = input(\"\\nWrite something for searching:  \")\n",
    "print(\"Query is:\", query)"
   ]
  },
  {
   "cell_type": "markdown",
   "metadata": {},
   "source": [
    "### Expected Output"
   ]
  },
  {
   "cell_type": "markdown",
   "metadata": {},
   "source": [
    "![Expected Output of query](images/Query.png)"
   ]
  },
  {
   "cell_type": "markdown",
   "metadata": {},
   "source": [
    "# Step 7 Load Synonyms"
   ]
  },
  {
   "cell_type": "code",
   "execution_count": 81,
   "metadata": {},
   "outputs": [
    {
     "name": "stdout",
     "output_type": "stream",
     "text": [
      "\n",
      "Synonyms Dictionary\n",
      "\n"
     ]
    },
    {
     "data": {
      "text/plain": [
       "{'write': ['compose', 'draft', 'author', 'create'],\n",
       " 'file': ['document', 'record', 'dossier', 'report'],\n",
       " 'example': ['illustration', 'instance', 'sample', 'demonstration'],\n",
       " 'query': ['question', 'inquiry', 'search', 'request'],\n",
       " 'synonym': ['equivalent', 'substitute', 'alternate', 'replacement'],\n",
       " 'retrieve': ['fetch', 'recover', 'obtain', 'bring back'],\n",
       " 'system': ['framework', 'structure', 'organization', 'arrangement'],\n",
       " 'search': ['seek', 'look for', 'explore', 'examine'],\n",
       " 'lost': ['misplaced', 'missing', 'forgotten', 'mislaid'],\n",
       " 'pen': ['write', 'ink', 'ballpoint', 'fountain'],\n",
       " 'paper': ['document', 'sheet', 'form', 'letter'],\n",
       " 'book': ['novel', 'volume', 'publication', 'tome'],\n",
       " 'read': ['peruse', 'scan', 'study', 'look at'],\n",
       " 'interesting': ['fascinating', 'engaging', 'intriguing', 'absorbing'],\n",
       " 'computer': ['machine', 'device', 'processor', 'laptop'],\n",
       " 'software': ['program', 'application', 'app', 'platform']}"
      ]
     },
     "execution_count": 81,
     "metadata": {},
     "output_type": "execute_result"
    }
   ],
   "source": [
    "synonym_file_path = r\"C:\\\\Users\\\\User\\\\OneDrive\\\\Desktop\\\\Assignmnet 2 - IRS\\\\synonyms.txt\"\n",
    "synonyms_dict = {} # dictionary to store synonyms\n",
    "#your code starts here\n",
    "# read in the file\n",
    "with open(synonym_file_path, 'r') as f:\n",
    "    # read each line of the file\n",
    "    for line in f:\n",
    "        # split the line into words\n",
    "        words = line.strip().split(':')\n",
    "        synonyms_dict[words[0]] = [w.strip() for w in words[1].split(',')]\n",
    "        # create a dictionary entry for the first word with the rest of the words as synonyms\n",
    "#your code ends here\n",
    "\n",
    "print(\"\\nSynonyms Dictionary\\n\")                  # print the resulting dictionary\n",
    "synonyms_dict"
   ]
  },
  {
   "cell_type": "markdown",
   "metadata": {},
   "source": [
    "### Expected Output"
   ]
  },
  {
   "cell_type": "markdown",
   "metadata": {},
   "source": [
    "![Synonym Dict Example](images\\Synonym_dict.png)"
   ]
  },
  {
   "cell_type": "markdown",
   "metadata": {},
   "source": [
    "# Step 8 Extend User Query"
   ]
  },
  {
   "cell_type": "code",
   "execution_count": 82,
   "metadata": {},
   "outputs": [
    {
     "name": "stdout",
     "output_type": "stream",
     "text": [
      "Expanded Query\n",
      "['this', 'is', 'a', 'fascinating', 'publication', 'written', 'with', 'a', 'pen', 'book', 'interesting']\n"
     ]
    }
   ],
   "source": [
    "expanded_query = []\n",
    "expanded_query=query.split(' ')\n",
    "# Write code to expand the query using synonyms\n",
    "#your code starts here\n",
    "for word,synonyms_list in synonyms_dict.items():\n",
    "    for el in synonyms_list:\n",
    "        if el in query:\n",
    "            expanded_query.append(word)\n",
    "\n",
    "#your code ends here\n",
    "\n",
    "print(\"Expanded Query\")\n",
    "print(expanded_query)"
   ]
  },
  {
   "cell_type": "markdown",
   "metadata": {},
   "source": [
    "### Expected Output"
   ]
  },
  {
   "cell_type": "markdown",
   "metadata": {},
   "source": [
    "![Extended Query](images\\Expanded_Query.png)"
   ]
  },
  {
   "cell_type": "markdown",
   "metadata": {},
   "source": [
    "Now work with extended query and find the relevant documents."
   ]
  },
  {
   "cell_type": "code",
   "execution_count": 83,
   "metadata": {},
   "outputs": [],
   "source": [
    "# Check every word of query if it exists in the set of unique words or not\n",
    "# If exists then increment the count of that word in word dictionary\n",
    "for word in expanded_query:\n",
    "    if word in unique_word_set:\n",
    "        word_count[word]+=1\n"
   ]
  },
  {
   "cell_type": "code",
   "execution_count": 84,
   "metadata": {},
   "outputs": [
    {
     "name": "stdout",
     "output_type": "stream",
     "text": [
      "[[1.]\n",
      " [1.]\n",
      " [1.]\n",
      " [0.]\n",
      " [1.]\n",
      " [1.]]\n"
     ]
    }
   ],
   "source": [
    "#Your code starts here    \n",
    "# Check every word of the query to see if it exists in the set of unique words\n",
    "for word in expanded_query:\n",
    "    # If a word exists in the set, increment the value at the corresponding index in the column vector\n",
    "    if word in unique_word_set:\n",
    "        col_vector[words_dict[word]]+=1\n",
    "print(col_vector)\n",
    "\n",
    "#Your code ends here"
   ]
  },
  {
   "cell_type": "markdown",
   "metadata": {},
   "source": [
    "### Expected Output"
   ]
  },
  {
   "cell_type": "markdown",
   "metadata": {},
   "source": [
    "![\"Expected Output of unique words\" - File 1](https://github.com/ahmad-14a/CS-F20-ML/blob/main/IRS-Assignment%201/o6.png?raw=true)\n"
   ]
  },
  {
   "cell_type": "markdown",
   "metadata": {},
   "source": [
    "# Step 7 Display Resultant Vector"
   ]
  },
  {
   "cell_type": "markdown",
   "metadata": {},
   "source": [
    "Display \n",
    "1. Resultant vector.\n",
    "2. Max value in resultant vector.\n",
    "3. Index of max value in resultant vector.\n"
   ]
  },
  {
   "cell_type": "code",
   "execution_count": 85,
   "metadata": {},
   "outputs": [
    {
     "name": "stdout",
     "output_type": "stream",
     "text": [
      "Result\n",
      "[[3.]\n",
      " [3.]\n",
      " [3.]]\n",
      "Max Index\n",
      "0\n",
      "Max\n",
      "3.0\n"
     ]
    }
   ],
   "source": [
    "#Your code starts here  \n",
    "resultant_vector = np.dot(term_doc_matrix, col_vector)\n",
    "res=np.max(resultant_vector)                         #np.max() to get the maximum value from resultant vector\n",
    "max_index=np.argmax(resultant_vector)                #np.argmax() to get the maximum index from resultant vector\n",
    "\n",
    "print(\"Result\")\n",
    "print(resultant_vector)\n",
    "print(\"Max Index\")\n",
    "print(max_index)\n",
    "print(\"Max\")\n",
    "print(res)\n",
    "#print(resultant_vector.shape)                       #for order of resultant vector\n",
    "#Your code ends here"
   ]
  },
  {
   "cell_type": "markdown",
   "metadata": {},
   "source": [
    "### Expected Output"
   ]
  },
  {
   "cell_type": "markdown",
   "metadata": {},
   "source": [
    "![\"Expected Output of unique words\" - File 1](https://github.com/ahmad-14a/CS-F20-ML/blob/main/IRS-Assignment%201/o7.png?raw=true)\n"
   ]
  },
  {
   "cell_type": "markdown",
   "metadata": {},
   "source": [
    "# Step 8 Display the contents of file\n"
   ]
  },
  {
   "cell_type": "markdown",
   "metadata": {},
   "source": [
    "Write the code to identify the file_name having maximum value in the resultant vector and display its contents."
   ]
  },
  {
   "cell_type": "code",
   "execution_count": 86,
   "metadata": {},
   "outputs": [
    {
     "name": "stdout",
     "output_type": "stream",
     "text": [
      "This is my book\n"
     ]
    }
   ],
   "source": [
    "#Your code starts here    \n",
    "file_name=files_dict[max_index]                  \n",
    "with open(file_name, 'r') as file:\n",
    "    content = file.read()\n",
    "    print(content)\n",
    "\n",
    "#Your code ends here"
   ]
  },
  {
   "cell_type": "markdown",
   "metadata": {},
   "source": [
    "Congratulations Now you are able to build your own small IRS which can work even if query does not have exact same words."
   ]
  }
 ],
 "metadata": {
  "kernelspec": {
   "display_name": "Python 3 (ipykernel)",
   "language": "python",
   "name": "python3"
  },
  "language_info": {
   "codemirror_mode": {
    "name": "ipython",
    "version": 3
   },
   "file_extension": ".py",
   "mimetype": "text/x-python",
   "name": "python",
   "nbconvert_exporter": "python",
   "pygments_lexer": "ipython3",
   "version": "3.11.3"
  }
 },
 "nbformat": 4,
 "nbformat_minor": 4
}
